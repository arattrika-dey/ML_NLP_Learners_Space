{
 "cells": [
  {
   "cell_type": "code",
   "execution_count": 4,
   "id": "de9b067f-4b72-4888-893a-e199acc6bc60",
   "metadata": {},
   "outputs": [
    {
     "name": "stdout",
     "output_type": "stream",
     "text": [
      "Original array:\n",
      "[[45 48  1  4]\n",
      " [ 4 40 10 20]\n",
      " [22 37 24  7]\n",
      " [25 25 13  2]\n",
      " [39 40 24 47]]\n"
     ]
    }
   ],
   "source": [
    "import numpy as np\n",
    "\n",
    "# Generate a random 5x4 array with integers between 1 and 50\n",
    "np.random.seed(0)  # For reproducibility\n",
    "arr = np.random.randint(1, 51, size=(5, 4))\n",
    "\n",
    "print(\"Original array:\")\n",
    "print(arr)"
   ]
  },
  {
   "cell_type": "markdown",
   "id": "2357956d-3dad-4591-a3b1-658c0be40e8f",
   "metadata": {},
   "source": [
    "## 1. Extract anti-diagonal elements"
   ]
  },
  {
   "cell_type": "code",
   "execution_count": 7,
   "id": "eb9778a7-76ff-4320-849c-9d2f83a9c66c",
   "metadata": {},
   "outputs": [
    {
     "name": "stdout",
     "output_type": "stream",
     "text": [
      "\n",
      "Anti-diagonal elements: [ 4 10 37 25]\n"
     ]
    }
   ],
   "source": [
    "anti_diagonal = np.array([arr[i, arr.shape[1]-1-i] for i in range(min(arr.shape[0], arr.shape[1]))])\n",
    "print(\"\\nAnti-diagonal elements:\", anti_diagonal)"
   ]
  },
  {
   "cell_type": "markdown",
   "id": "9e8b3ecd-bfa7-42e0-9f84-648116ab85ee",
   "metadata": {},
   "source": [
    "## 2. Compute maximum value in each row"
   ]
  },
  {
   "cell_type": "code",
   "execution_count": 10,
   "id": "040eb7f7-f61f-4a9d-ba55-3031a8811d21",
   "metadata": {},
   "outputs": [
    {
     "name": "stdout",
     "output_type": "stream",
     "text": [
      "\n",
      "Maximum value in each row: [48 40 37 25 47]\n"
     ]
    }
   ],
   "source": [
    "row_max = np.max(arr, axis=1)\n",
    "print(\"\\nMaximum value in each row:\", row_max)"
   ]
  },
  {
   "cell_type": "markdown",
   "id": "7c944a03-8d88-45d5-a6af-e435e7ee7f0e",
   "metadata": {},
   "source": [
    "## 3. Create new array with elements <= overall mean"
   ]
  },
  {
   "cell_type": "code",
   "execution_count": 13,
   "id": "ee4f9d77-81ec-4078-a223-7b615c6f6106",
   "metadata": {},
   "outputs": [
    {
     "name": "stdout",
     "output_type": "stream",
     "text": [
      "\n",
      "Overall mean: 23.85\n",
      "Elements <= mean: [ 1  4  4 10 20 22  7 13  2]\n"
     ]
    }
   ],
   "source": [
    "mean_val = np.mean(arr)\n",
    "filtered_arr = arr[arr <= mean_val]\n",
    "print(\"\\nOverall mean:\", mean_val)\n",
    "print(\"Elements <= mean:\", filtered_arr)"
   ]
  },
  {
   "cell_type": "markdown",
   "id": "621b306e-3b06-44db-9c1b-fbcd4480bf51",
   "metadata": {},
   "source": [
    "## 4. Boundary traversal function"
   ]
  },
  {
   "cell_type": "code",
   "execution_count": 16,
   "id": "e5e154fe-97bf-4af9-b8f4-d638752e4ef6",
   "metadata": {},
   "outputs": [
    {
     "name": "stdout",
     "output_type": "stream",
     "text": [
      "\n",
      "Boundary traversal: [45, 48, 1, 4, 20, 7, 2, 47, 24, 40, 39, 25, 22, 4]\n"
     ]
    }
   ],
   "source": [
    "def numpy_boundary_traversal(matrix):\n",
    "    if matrix.size == 0:\n",
    "        return []\n",
    "    \n",
    "    rows, cols = matrix.shape\n",
    "    boundary = []\n",
    "    \n",
    "    # Top row (left to right)\n",
    "    boundary.extend(matrix[0, :cols].tolist())\n",
    "    \n",
    "    # Right column (top to bottom, excluding first element)\n",
    "    if rows > 1:\n",
    "        boundary.extend(matrix[1:, cols-1].tolist())\n",
    "    \n",
    "    # Bottom row (right to left, if there are multiple rows)\n",
    "    if rows > 1:\n",
    "        boundary.extend(matrix[rows-1, :cols-1][::-1].tolist())\n",
    "    \n",
    "    # Left column (bottom to top, excluding first and last elements)\n",
    "    if cols > 1 and rows > 2:\n",
    "        boundary.extend(matrix[1:rows-1, 0][::-1].tolist())\n",
    "    \n",
    "    return boundary\n",
    "\n",
    "print(\"\\nBoundary traversal:\", numpy_boundary_traversal(arr))"
   ]
  },
  {
   "cell_type": "code",
   "execution_count": null,
   "id": "bf0a4ef6-3008-40b7-8a32-dc21f216e79b",
   "metadata": {},
   "outputs": [],
   "source": []
  }
 ],
 "metadata": {
  "kernelspec": {
   "display_name": "Python [conda env:base] *",
   "language": "python",
   "name": "conda-base-py"
  },
  "language_info": {
   "codemirror_mode": {
    "name": "ipython",
    "version": 3
   },
   "file_extension": ".py",
   "mimetype": "text/x-python",
   "name": "python",
   "nbconvert_exporter": "python",
   "pygments_lexer": "ipython3",
   "version": "3.12.7"
  }
 },
 "nbformat": 4,
 "nbformat_minor": 5
}
