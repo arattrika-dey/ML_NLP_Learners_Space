{
 "cells": [
  {
   "cell_type": "markdown",
   "id": "8074e07b-95c9-4112-96b7-c62197596d0b",
   "metadata": {},
   "source": [
    "## 1. Creating the Synthetic Dataset"
   ]
  },
  {
   "cell_type": "code",
   "execution_count": 3,
   "id": "cb6cdf8e-6e7f-4df7-bbd2-dcbb522effdf",
   "metadata": {},
   "outputs": [
    {
     "name": "stdout",
     "output_type": "stream",
     "text": [
      "Sample of the dataset:\n",
      "                                              Review Sentiment\n",
      "0  A remarkable masterpiece. The plot was brillia...  positive\n",
      "1  I enjoyed every minute. The soundtrack was won...  positive\n",
      "2  remarkable performance by the cast. The charac...  positive\n",
      "3  What a fantastic film! The acting was outstand...  positive\n",
      "4  This movie was incredible! I loved the storyli...  positive\n",
      "\n",
      "Sentiment distribution:\n",
      "Sentiment\n",
      "positive    50\n",
      "negative    50\n",
      "Name: count, dtype: int64\n"
     ]
    }
   ],
   "source": [
    "import pandas as pd\n",
    "import numpy as np\n",
    "from sklearn.feature_extraction.text import CountVectorizer\n",
    "from sklearn.model_selection import train_test_split\n",
    "from sklearn.naive_bayes import MultinomialNB\n",
    "from sklearn.metrics import accuracy_score\n",
    "\n",
    "# Create synthetic dataset\n",
    "def create_synthetic_reviews():\n",
    "    # Positive review templates\n",
    "    positive_templates = [\n",
    "        \"This movie was {adj}! I loved the {noun} and the {noun} was amazing.\",\n",
    "        \"A {adj} masterpiece. The {noun} was brilliant and the {noun} was perfect.\",\n",
    "        \"I enjoyed every minute. The {noun} was {adj} and the {noun} was {adj}.\",\n",
    "        \"What a {adj} film! The {noun} was outstanding and the {noun} was superb.\",\n",
    "        \"{adj} performance by the cast. The {noun} was excellent and the {noun} was great.\",\n",
    "    ]\n",
    "    \n",
    "    # Negative review templates\n",
    "    negative_templates = [\n",
    "        \"This movie was {adj}. I hated the {noun} and the {noun} was terrible.\",\n",
    "        \"A {adj} disaster. The {noun} was awful and the {noun} was bad.\",\n",
    "        \"I disliked every minute. The {noun} was {adj} and the {noun} was {adj}.\",\n",
    "        \"What a {adj} film! The {noun} was poor and the {noun} was disappointing.\",\n",
    "        \"{adj} performance by the cast. The {noun} was weak and the {noun} was mediocre.\",\n",
    "    ]\n",
    "    \n",
    "    # Words to fill in templates\n",
    "    adjectives_pos = ['fantastic', 'wonderful', 'incredible', 'awesome', 'remarkable']\n",
    "    adjectives_neg = ['horrible', 'terrible', 'boring', 'awful', 'disappointing']\n",
    "    nouns = ['plot', 'acting', 'cinematography', 'dialogue', 'ending', 'character development', \n",
    "             'soundtrack', 'direction', 'visual effects', 'storyline']\n",
    "    \n",
    "    reviews = []\n",
    "    sentiments = []\n",
    "    \n",
    "    # Generate 50 positive reviews\n",
    "    for _ in range(50):\n",
    "        template = np.random.choice(positive_templates)\n",
    "        adj = np.random.choice(adjectives_pos)\n",
    "        noun1, noun2 = np.random.choice(nouns, 2, replace=True)\n",
    "        review = template.format(adj=adj, noun=noun1).replace(\"noun\", noun2, 1)\n",
    "        reviews.append(review)\n",
    "        sentiments.append('positive')\n",
    "    \n",
    "    # Generate 50 negative reviews\n",
    "    for _ in range(50):\n",
    "        template = np.random.choice(negative_templates)\n",
    "        adj = np.random.choice(adjectives_neg)\n",
    "        noun1, noun2 = np.random.choice(nouns, 2, replace=True)\n",
    "        review = template.format(adj=adj, noun=noun1).replace(\"noun\", noun2, 1)\n",
    "        reviews.append(review)\n",
    "        sentiments.append('negative')\n",
    "    \n",
    "    return pd.DataFrame({'Review': reviews, 'Sentiment': sentiments})\n",
    "\n",
    "# Create the dataset\n",
    "reviews_df = create_synthetic_reviews()\n",
    "\n",
    "# Display sample of the data\n",
    "print(\"Sample of the dataset:\")\n",
    "print(reviews_df.head())\n",
    "print(\"\\nSentiment distribution:\")\n",
    "print(reviews_df['Sentiment'].value_counts())"
   ]
  },
  {
   "cell_type": "markdown",
   "id": "b1b22b19-0418-49fb-bcf8-073e48266912",
   "metadata": {},
   "source": [
    "## 2. Tokenize the reviews"
   ]
  },
  {
   "cell_type": "code",
   "execution_count": 6,
   "id": "25c732a3-73ea-448c-a3f7-63ae84f53750",
   "metadata": {},
   "outputs": [],
   "source": [
    "vectorizer = CountVectorizer(max_features=500, stop_words='english')\n",
    "X = vectorizer.fit_transform(reviews_df['Review'])\n",
    "y = reviews_df['Sentiment']"
   ]
  },
  {
   "cell_type": "markdown",
   "id": "17ab6fb9-c75b-423a-93dc-5bf78b058e4a",
   "metadata": {},
   "source": [
    "## 3. Split the dataset"
   ]
  },
  {
   "cell_type": "code",
   "execution_count": 9,
   "id": "d240005e-0640-4333-81c3-45dcaf1065c5",
   "metadata": {},
   "outputs": [],
   "source": [
    "X_train, X_test, y_train, y_test = train_test_split(X, y, test_size=0.2, random_state=42)"
   ]
  },
  {
   "cell_type": "markdown",
   "id": "deb62276-4f58-4a25-8db3-0b906b551b86",
   "metadata": {},
   "source": [
    "## 4. Train the classifier"
   ]
  },
  {
   "cell_type": "code",
   "execution_count": 12,
   "id": "454796a2-8891-47f8-b481-ba15a1d829fa",
   "metadata": {},
   "outputs": [
    {
     "name": "stdout",
     "output_type": "stream",
     "text": [
      "\n",
      "Model accuracy on test set: 1.00\n"
     ]
    }
   ],
   "source": [
    "# Train the classifier\n",
    "classifier = MultinomialNB()\n",
    "classifier.fit(X_train, y_train)\n",
    "\n",
    "# Evaluate on test set\n",
    "y_pred = classifier.predict(X_test)\n",
    "accuracy = accuracy_score(y_test, y_pred)\n",
    "print(f\"\\nModel accuracy on test set: {accuracy:.2f}\")"
   ]
  },
  {
   "cell_type": "markdown",
   "id": "c378bcec-0a4b-48ef-971c-b5809894794e",
   "metadata": {},
   "source": [
    "## 5. Prediction function"
   ]
  },
  {
   "cell_type": "code",
   "execution_count": 15,
   "id": "819da774-aed1-4e14-b968-e433b064428a",
   "metadata": {},
   "outputs": [
    {
     "name": "stdout",
     "output_type": "stream",
     "text": [
      "\n",
      "Test review: 'This movie was fantastic with amazing acting and brilliant cinematography.'\n",
      "Predicted sentiment: positive\n",
      "\n",
      "Test review: 'I hated everything about this boring film with terrible acting.'\n",
      "Predicted sentiment: negative\n"
     ]
    }
   ],
   "source": [
    "# Prediction function\n",
    "def predict_review_sentiment(model, vectorizer, review):\n",
    "    \"\"\"\n",
    "    Predict the sentiment of a single review.\n",
    "    \n",
    "    Parameters:\n",
    "    model -- trained classifier model\n",
    "    vectorizer -- fitted CountVectorizer\n",
    "    review -- string containing the review text\n",
    "    \n",
    "    Returns:\n",
    "    Predicted sentiment ('positive' or 'negative')\n",
    "    \"\"\"\n",
    "    # Vectorize the review\n",
    "    review_vec = vectorizer.transform([review])\n",
    "    # Predict and return the sentiment\n",
    "    return model.predict(review_vec)[0]\n",
    "\n",
    "# Test the prediction function\n",
    "test_review = \"This movie was fantastic with amazing acting and brilliant cinematography.\"\n",
    "predicted_sentiment = predict_review_sentiment(classifier, vectorizer, test_review)\n",
    "print(f\"\\nTest review: '{test_review}'\")\n",
    "print(f\"Predicted sentiment: {predicted_sentiment}\")\n",
    "\n",
    "test_review2 = \"I hated everything about this boring film with terrible acting.\"\n",
    "predicted_sentiment2 = predict_review_sentiment(classifier, vectorizer, test_review2)\n",
    "print(f\"\\nTest review: '{test_review2}'\")\n",
    "print(f\"Predicted sentiment: {predicted_sentiment2}\")"
   ]
  },
  {
   "cell_type": "code",
   "execution_count": null,
   "id": "2f81b8c9-3f57-481d-bc8e-b09c8899a97b",
   "metadata": {},
   "outputs": [],
   "source": []
  }
 ],
 "metadata": {
  "kernelspec": {
   "display_name": "Python [conda env:base] *",
   "language": "python",
   "name": "conda-base-py"
  },
  "language_info": {
   "codemirror_mode": {
    "name": "ipython",
    "version": 3
   },
   "file_extension": ".py",
   "mimetype": "text/x-python",
   "name": "python",
   "nbconvert_exporter": "python",
   "pygments_lexer": "ipython3",
   "version": "3.12.7"
  }
 },
 "nbformat": 4,
 "nbformat_minor": 5
}
