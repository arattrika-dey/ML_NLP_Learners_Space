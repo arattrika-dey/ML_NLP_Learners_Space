{
 "cells": [
  {
   "cell_type": "code",
   "execution_count": 2,
   "id": "fe076ad4-ffc1-4b39-a517-b677011419a3",
   "metadata": {},
   "outputs": [],
   "source": [
    "import numpy as np\n",
    "import pandas as pd\n",
    "from sklearn.feature_extraction.text import TfidfVectorizer\n",
    "from sklearn.model_selection import train_test_split\n",
    "from sklearn.linear_model import LogisticRegression\n",
    "from sklearn.metrics import precision_recall_fscore_support\n",
    "\n",
    "# Set random seed for reproducibility\n",
    "np.random.seed(42)"
   ]
  },
  {
   "cell_type": "markdown",
   "id": "c58697cd-973b-49bc-a1a9-285dd23c5b31",
   "metadata": {},
   "source": [
    "## 1. Create synthetic dataset"
   ]
  },
  {
   "cell_type": "code",
   "execution_count": 5,
   "id": "658c9629-ffe0-4deb-89d3-610b4aaad037",
   "metadata": {},
   "outputs": [],
   "source": [
    "def generate_synthetic_data(num_samples=100):\n",
    "    # Sample positive (good) and negative (bad) feedback phrases\n",
    "    positive_phrases = [\n",
    "        \"Great product, works perfectly!\",\n",
    "        \"Excellent quality, very happy with purchase\",\n",
    "        \"Fast delivery and good packaging\",\n",
    "        \"Exactly as described, would buy again\",\n",
    "        \"Highly recommend this item\",\n",
    "        \"Perfect fit, love the design\",\n",
    "        \"Works better than expected\",\n",
    "        \"Good value for the price\",\n",
    "        \"Customer service was helpful\",\n",
    "        \"Arrived early, no issues\"\n",
    "    ]\n",
    "    \n",
    "    negative_phrases = [\n",
    "        \"Poor quality, broke immediately\",\n",
    "        \"Not as described, very disappointed\",\n",
    "        \"Late delivery and damaged package\",\n",
    "        \"Waste of money, doesn't work\",\n",
    "        \"Would not recommend to anyone\",\n",
    "        \"Wrong size, difficult to return\",\n",
    "        \"Defective product, needs replacement\",\n",
    "        \"Overpriced for what you get\",\n",
    "        \"Customer service was unhelpful\",\n",
    "        \"Missing parts, incomplete order\"\n",
    "    ]\n",
    "    \n",
    "    # Generate synthetic samples by adding some variation\n",
    "    samples = []\n",
    "    labels = []\n",
    "    \n",
    "    for _ in range(num_samples // 2):\n",
    "        # Generate good samples\n",
    "        base_phrase = np.random.choice(positive_phrases)\n",
    "        varied_phrase = base_phrase.replace(\"!\", np.random.choice([\"\", \" :)\", \"\"]))\n",
    "        samples.append(varied_phrase)\n",
    "        labels.append(1)  # 1 for good\n",
    "        \n",
    "        # Generate bad samples\n",
    "        base_phrase = np.random.choice(negative_phrases)\n",
    "        varied_phrase = base_phrase.replace(\",\", np.random.choice([\",\", \"...\", \"\"]))\n",
    "        samples.append(varied_phrase)\n",
    "        labels.append(0)  # 0 for bad\n",
    "    \n",
    "    # Convert to DataFrame\n",
    "    df = pd.DataFrame({'text': samples, 'label': labels})\n",
    "    \n",
    "    # Shuffle the dataset\n",
    "    df = df.sample(frac=1, random_state=42).reset_index(drop=True)\n",
    "    \n",
    "    return df\n",
    "\n",
    "# Generate the dataset\n",
    "df = generate_synthetic_data(100)"
   ]
  },
  {
   "cell_type": "markdown",
   "id": "0d2e9068-ee01-439f-a1e3-b527012e8814",
   "metadata": {},
   "source": [
    "## 2. Preprocess text using TfidfVectorizer"
   ]
  },
  {
   "cell_type": "code",
   "execution_count": 8,
   "id": "142503c9-004a-471f-8c7e-eeb3b0f64e8e",
   "metadata": {},
   "outputs": [],
   "source": [
    "vectorizer = TfidfVectorizer(\n",
    "    max_features=300,\n",
    "    lowercase=True,\n",
    "    stop_words='english'\n",
    ")"
   ]
  },
  {
   "cell_type": "markdown",
   "id": "d4ddbf11-a116-4cfb-a386-ce3abe8a6d7b",
   "metadata": {},
   "source": [
    "## 3. Split dataset into training (75%) and testing (25%) sets"
   ]
  },
  {
   "cell_type": "code",
   "execution_count": 11,
   "id": "ad770572-583a-4e2a-98a8-dc7c4bfcff66",
   "metadata": {},
   "outputs": [],
   "source": [
    "X_train, X_test, y_train, y_test = train_test_split(\n",
    "    df['text'], df['label'], test_size=0.25, random_state=42\n",
    ")\n",
    "\n",
    "# Vectorize the text data\n",
    "X_train_vec = vectorizer.fit_transform(X_train)\n",
    "X_test_vec = vectorizer.transform(X_test)"
   ]
  },
  {
   "cell_type": "markdown",
   "id": "4ba78bd1-4184-4bd2-af76-dd91c610bda3",
   "metadata": {},
   "source": [
    "## 4. Train Logistic Regression model"
   ]
  },
  {
   "cell_type": "code",
   "execution_count": 14,
   "id": "d99ff0bd-9eed-4092-baf0-f2180e1e91f6",
   "metadata": {},
   "outputs": [
    {
     "name": "stdout",
     "output_type": "stream",
     "text": [
      "Precision: 1.000\n",
      "Recall: 1.000\n",
      "F1-score: 1.000\n"
     ]
    }
   ],
   "source": [
    "model = LogisticRegression(random_state=42)\n",
    "model.fit(X_train_vec, y_train)\n",
    "\n",
    "# Make predictions on test set\n",
    "y_pred = model.predict(X_test_vec)\n",
    "\n",
    "# Calculate evaluation metrics\n",
    "precision, recall, f1, _ = precision_recall_fscore_support(\n",
    "    y_test, y_pred, average='binary'\n",
    ")\n",
    "\n",
    "print(f\"Precision: {precision:.3f}\")\n",
    "print(f\"Recall: {recall:.3f}\")\n",
    "print(f\"F1-score: {f1:.3f}\")"
   ]
  },
  {
   "cell_type": "markdown",
   "id": "9527c5e6-fc9b-4644-b080-5b6e0827f0c7",
   "metadata": {},
   "source": [
    "## 5. The requested function"
   ]
  },
  {
   "cell_type": "code",
   "execution_count": 17,
   "id": "48321205-5350-4a94-965f-81655f10b53d",
   "metadata": {},
   "outputs": [
    {
     "name": "stdout",
     "output_type": "stream",
     "text": [
      "\n",
      "Example vectorization output shape: (2, 56)\n"
     ]
    }
   ],
   "source": [
    "def text_preprocess_vectorize(texts, vectorizer):\n",
    "    \"\"\"\n",
    "    Preprocess and vectorize text samples using a fitted TfidfVectorizer.\n",
    "    \n",
    "    Args:\n",
    "        texts (list): List of text samples to process\n",
    "        vectorizer (TfidfVectorizer): Fitted TfidfVectorizer instance\n",
    "        \n",
    "    Returns:\n",
    "        scipy.sparse.csr_matrix: Vectorized feature matrix\n",
    "    \"\"\"\n",
    "    return vectorizer.transform(texts)\n",
    "\n",
    "# Example usage of the function:\n",
    "sample_texts = [\"Great product\", \"Poor quality\"]\n",
    "vectorized_samples = text_preprocess_vectorize(sample_texts, vectorizer)\n",
    "print(\"\\nExample vectorization output shape:\", vectorized_samples.shape)"
   ]
  },
  {
   "cell_type": "code",
   "execution_count": null,
   "id": "fdf5bb91-12db-4c01-bf90-a8af8ade31d1",
   "metadata": {},
   "outputs": [],
   "source": []
  }
 ],
 "metadata": {
  "kernelspec": {
   "display_name": "Python [conda env:base] *",
   "language": "python",
   "name": "conda-base-py"
  },
  "language_info": {
   "codemirror_mode": {
    "name": "ipython",
    "version": 3
   },
   "file_extension": ".py",
   "mimetype": "text/x-python",
   "name": "python",
   "nbconvert_exporter": "python",
   "pygments_lexer": "ipython3",
   "version": "3.12.7"
  }
 },
 "nbformat": 4,
 "nbformat_minor": 5
}
