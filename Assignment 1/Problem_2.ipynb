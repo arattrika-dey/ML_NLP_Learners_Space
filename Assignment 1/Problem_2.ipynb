{
 "cells": [
  {
   "cell_type": "code",
   "execution_count": 2,
   "id": "db395213-4cb9-4bb0-9ab1-31b599bb53a1",
   "metadata": {},
   "outputs": [],
   "source": [
    "import numpy as np\n",
    "\n",
    "# Create a 1D array of 20 random floats between 0 and 10\n",
    "random_array = np.random.uniform(0, 10, 20)"
   ]
  },
  {
   "cell_type": "markdown",
   "id": "ed02ccce-1eee-4966-85c9-e0d82888eeef",
   "metadata": {},
   "source": [
    "## 1. Print the array rounded to two decimal places"
   ]
  },
  {
   "cell_type": "code",
   "execution_count": 5,
   "id": "f0426002-3ef8-4aab-8193-d4d7e52bc6c2",
   "metadata": {},
   "outputs": [
    {
     "name": "stdout",
     "output_type": "stream",
     "text": [
      "Original array (rounded to 2 decimal places):\n",
      "[3.8  3.99 9.13 8.47 8.49 9.77 1.37 2.71 2.68 2.73 3.66 6.59 0.61 9.61\n",
      " 1.76 3.42 6.59 4.07 8.23 8.93]\n"
     ]
    }
   ],
   "source": [
    "print(\"Original array (rounded to 2 decimal places):\")\n",
    "print(np.round(random_array, 2))"
   ]
  },
  {
   "cell_type": "markdown",
   "id": "3244a0a5-a560-48a8-8280-ee7090c45570",
   "metadata": {},
   "source": [
    "## 2. Calculate and print minimum, maximum, and median of the array"
   ]
  },
  {
   "cell_type": "code",
   "execution_count": 8,
   "id": "b079b650-9061-4526-b233-df5237c71ad3",
   "metadata": {},
   "outputs": [
    {
     "name": "stdout",
     "output_type": "stream",
     "text": [
      "\n",
      "Minimum: 0.6143003628101928\n",
      "Maximum: 9.76558902218024\n",
      "Median: 4.0323957815483205\n"
     ]
    }
   ],
   "source": [
    "print(\"\\nMinimum:\", np.min(random_array))\n",
    "print(\"Maximum:\", np.max(random_array))\n",
    "print(\"Median:\", np.median(random_array))"
   ]
  },
  {
   "cell_type": "markdown",
   "id": "5cdddd3d-4dd3-4fe8-b491-16a05df4a92c",
   "metadata": {},
   "source": [
    "## 3. Replace all elements less than 5 with their squares"
   ]
  },
  {
   "cell_type": "code",
   "execution_count": 11,
   "id": "22113d27-2247-4e5f-8e2d-53bd82b2f0b9",
   "metadata": {},
   "outputs": [
    {
     "name": "stdout",
     "output_type": "stream",
     "text": [
      "\n",
      "Array after replacing elements <5 with their squares (rounded to 2 decimal places):\n",
      "[14.48 15.93  9.13  8.47  8.49  9.77  1.87  7.33  7.2   7.44 13.43  6.59\n",
      "  0.38  9.61  3.11 11.72  6.59 16.6   8.23  8.93]\n"
     ]
    }
   ],
   "source": [
    "modified_array = np.where(random_array < 5, random_array**2, random_array)\n",
    "print(\"\\nArray after replacing elements <5 with their squares (rounded to 2 decimal places):\")\n",
    "print(np.round(modified_array, 2))"
   ]
  },
  {
   "cell_type": "markdown",
   "id": "12bf66ba-040b-42bf-bd36-fdfb197955b6",
   "metadata": {},
   "source": [
    "## 4. Function for alternate sorting"
   ]
  },
  {
   "cell_type": "code",
   "execution_count": 14,
   "id": "5edd1629-d418-4b85-8d39-d152f4f567ba",
   "metadata": {},
   "outputs": [
    {
     "name": "stdout",
     "output_type": "stream",
     "text": [
      "\n",
      "Alternately sorted array (rounded to 2 decimal places):\n",
      "[0.61 9.77 1.37 9.61 1.76 9.13 2.68 8.93 2.71 8.49 2.73 8.47 3.42 8.23\n",
      " 3.66 6.59 3.8  6.59 3.99 4.07]\n"
     ]
    }
   ],
   "source": [
    "def numpy_alternate_sort(array):\n",
    "    sorted_array = np.sort(array)\n",
    "    result = np.empty_like(sorted_array)\n",
    "    \n",
    "    left = 0\n",
    "    right = len(sorted_array) - 1\n",
    "    toggle = True\n",
    "    \n",
    "    for i in range(len(sorted_array)):\n",
    "        if toggle:\n",
    "            result[i] = sorted_array[left]\n",
    "            left += 1\n",
    "        else:\n",
    "            result[i] = sorted_array[right]\n",
    "            right -= 1\n",
    "        toggle = not toggle\n",
    "    \n",
    "    return result\n",
    "\n",
    "# Apply alternate sort and print the result\n",
    "alternate_sorted = numpy_alternate_sort(random_array)\n",
    "print(\"\\nAlternately sorted array (rounded to 2 decimal places):\")\n",
    "print(np.round(alternate_sorted, 2))"
   ]
  },
  {
   "cell_type": "code",
   "execution_count": null,
   "id": "2088c873-241a-4d78-8a6c-fd70cb942adb",
   "metadata": {},
   "outputs": [],
   "source": []
  }
 ],
 "metadata": {
  "kernelspec": {
   "display_name": "Python [conda env:base] *",
   "language": "python",
   "name": "conda-base-py"
  },
  "language_info": {
   "codemirror_mode": {
    "name": "ipython",
    "version": 3
   },
   "file_extension": ".py",
   "mimetype": "text/x-python",
   "name": "python",
   "nbconvert_exporter": "python",
   "pygments_lexer": "ipython3",
   "version": "3.12.7"
  }
 },
 "nbformat": 4,
 "nbformat_minor": 5
}
