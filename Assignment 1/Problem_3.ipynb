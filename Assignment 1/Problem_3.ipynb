{
 "cells": [
  {
   "cell_type": "code",
   "execution_count": 2,
   "id": "9664ad58-bd03-453a-9c18-14368b01a5ae",
   "metadata": {},
   "outputs": [],
   "source": [
    "import pandas as pd\n",
    "import numpy as np\n",
    "\n",
    "# Create the initial DataFrame\n",
    "np.random.seed(42)  # For reproducibility\n",
    "names = ['Alice', 'Bob', 'Charlie', 'David', 'Eve', 'Frank', 'Grace', 'Heidi', 'Ivan', 'Judy']\n",
    "subjects = ['Math', 'Science', 'English', 'History'] * 3  # Will give us 12 subjects, we'll take first 10\n",
    "subjects = subjects[:10]  # Ensure we have exactly 10 subjects\n",
    "scores = np.random.randint(50, 101, size=10)\n",
    "\n",
    "data = {\n",
    "    'Name': names,\n",
    "    'Subject': subjects,\n",
    "    'Score': scores,\n",
    "    'Grade': ''\n",
    "}\n",
    "\n",
    "df = pd.DataFrame(data)"
   ]
  },
  {
   "cell_type": "markdown",
   "id": "6162a5d3-19c8-42fc-b088-19737cac47c5",
   "metadata": {},
   "source": [
    "## 1. Function to assign grades based on scores"
   ]
  },
  {
   "cell_type": "code",
   "execution_count": 5,
   "id": "b8ff670e-22a4-40f0-b89e-5f69df4e1cd1",
   "metadata": {},
   "outputs": [],
   "source": [
    "def assign_grade(score):\n",
    "    if score >= 90:\n",
    "        return 'A'\n",
    "    elif score >= 80:\n",
    "        return 'B'\n",
    "    elif score >= 70:\n",
    "        return 'C'\n",
    "    elif score >= 60:\n",
    "        return 'D'\n",
    "    else:\n",
    "        return 'F'\n",
    "\n",
    "# Assign grades\n",
    "df['Grade'] = df['Score'].apply(assign_grade)"
   ]
  },
  {
   "cell_type": "markdown",
   "id": "07ce6987-13a0-418f-b0b5-97e5a20da4c4",
   "metadata": {},
   "source": [
    "## 2. Print DataFrame sorted by Score in descending order"
   ]
  },
  {
   "cell_type": "code",
   "execution_count": 10,
   "id": "a2efab08-5d69-4c6c-b38c-81d2dbef390e",
   "metadata": {},
   "outputs": [
    {
     "name": "stdout",
     "output_type": "stream",
     "text": [
      "DataFrame sorted by Score (descending):\n",
      "      Name  Subject  Score Grade\n",
      "3    David  History     92     A\n",
      "0    Alice     Math     88     B\n",
      "6    Grace  English     88     B\n",
      "1      Bob  Science     78     C\n",
      "8     Ivan     Math     72     C\n",
      "5    Frank  Science     70     C\n",
      "7    Heidi  History     68     D\n",
      "2  Charlie  English     64     D\n",
      "9     Judy  Science     60     D\n",
      "4      Eve     Math     57     F\n"
     ]
    }
   ],
   "source": [
    "print(\"DataFrame sorted by Score (descending):\")\n",
    "print(df.sort_values('Score', ascending=False))"
   ]
  },
  {
   "cell_type": "markdown",
   "id": "73526923-d933-4448-abd3-5bb2fc78425a",
   "metadata": {},
   "source": [
    "## 3. Calculate and print average score for each subject"
   ]
  },
  {
   "cell_type": "code",
   "execution_count": 13,
   "id": "6ed4cd9e-732c-4e6f-a515-b06610e37a9f",
   "metadata": {},
   "outputs": [
    {
     "name": "stdout",
     "output_type": "stream",
     "text": [
      "Average score per subject:\n",
      "Subject\n",
      "English    76.000000\n",
      "History    80.000000\n",
      "Math       72.333333\n",
      "Science    69.333333\n",
      "Name: Score, dtype: float64\n"
     ]
    }
   ],
   "source": [
    "print(\"Average score per subject:\")\n",
    "print(df.groupby('Subject')['Score'].mean())"
   ]
  },
  {
   "cell_type": "markdown",
   "id": "5c2dec78-d8b3-4d7c-a5b1-288dab6bcf15",
   "metadata": {},
   "source": [
    "## 4. Function to filter records with grades A or B"
   ]
  },
  {
   "cell_type": "code",
   "execution_count": 16,
   "id": "64fa754d-6162-4e7f-9d92-b83bc5760699",
   "metadata": {},
   "outputs": [
    {
     "name": "stdout",
     "output_type": "stream",
     "text": [
      "Students with passing grades (A or B):\n",
      "    Name  Subject  Score Grade\n",
      "0  Alice     Math     88     B\n",
      "3  David  History     92     A\n",
      "6  Grace  English     88     B\n"
     ]
    }
   ],
   "source": [
    "def pandas_filter_pass(dataframe):\n",
    "    return dataframe[dataframe['Grade'].isin(['A', 'B'])]\n",
    "\n",
    "# Demonstrate the filter function\n",
    "print(\"Students with passing grades (A or B):\")\n",
    "print(pandas_filter_pass(df))"
   ]
  },
  {
   "cell_type": "code",
   "execution_count": null,
   "id": "c39c564c-d7f2-43c2-961d-b97aa1f36bcb",
   "metadata": {},
   "outputs": [],
   "source": []
  }
 ],
 "metadata": {
  "kernelspec": {
   "display_name": "Python [conda env:base] *",
   "language": "python",
   "name": "conda-base-py"
  },
  "language_info": {
   "codemirror_mode": {
    "name": "ipython",
    "version": 3
   },
   "file_extension": ".py",
   "mimetype": "text/x-python",
   "name": "python",
   "nbconvert_exporter": "python",
   "pygments_lexer": "ipython3",
   "version": "3.12.7"
  }
 },
 "nbformat": 4,
 "nbformat_minor": 5
}
